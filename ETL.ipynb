{
 "cells": [
  {
   "cell_type": "markdown",
   "metadata": {},
   "source": [
    "Notebook para tratar e realizar a criação do Dataframe único:"
   ]
  },
  {
   "cell_type": "markdown",
   "metadata": {},
   "source": [
    "#### Carregando todos os CSV's:"
   ]
  },
  {
   "cell_type": "markdown",
   "metadata": {},
   "source": [
    "As bases são:\n",
    "\n",
    "- ALUGUEL_ESTIMADO.csv\n",
    "- CADERNETA_COLETIVA.csv\n",
    "- CARACTERISTICAS_DIETA.csv\n",
    "- CONDICOES_VIDA.csv\n",
    "- CONSUMO_ALIMENTAR.csv\n",
    "- DESPESA_COLETIVA.csv\n",
    "- DESPESA_INDIVIDUAL.csv\n",
    "- DOMICILIO.csv\n",
    "- INVENTARIO.csv\n",
    "- MORADOR.csv\n",
    "- OUTROS_RENDIMENTOS.csv\n",
    "- RENDIMENTO_TRABALHO.csv\n",
    "- RESTRICAO_PRODUTOS_SERVICOS_SAUDE.csv\n",
    "- SERVICO_NAO_MONETARIO_POF2.csv\n",
    "- SERVICO_NAO_MONETARIO_POF4.csv\n",
    "\n"
   ]
  },
  {
   "cell_type": "code",
   "execution_count": 2,
   "metadata": {},
   "outputs": [],
   "source": [
    "import pandas as pd\n",
    "import numpy as np\n",
    "import seaborn as sns\n",
    "from matplotlib import pyplot as plt\n",
    "import missingno as msno"
   ]
  },
  {
   "cell_type": "code",
   "execution_count": 3,
   "metadata": {},
   "outputs": [],
   "source": [
    "aluguel_estimado     = pd.read_csv('./dados/ALUGUEL_ESTIMADO.csv')\n",
    "cadern_coletiva      = pd.read_csv('./dados/CADERNETA_COLETIVA.csv')\n",
    "caract_dieta         = pd.read_csv('./dados/CARACTERISTICAS_DIETA.csv')\n",
    "condicoes_vida       = pd.read_csv('./dados/CONDICOES_VIDA.csv')\n",
    "despesa_coletiva     = pd.read_csv('./dados/DESPESA_COLETIVA.csv')\n",
    "despesa_ind          = pd.read_csv('./dados/DESPESA_INDIVIDUAL.csv')\n",
    "domicilio            = pd.read_csv('./dados/DOMICILIO.csv')\n",
    "inventario           = pd.read_csv('./dados/INVENTARIO.csv')\n",
    "morador              = pd.read_csv('./dados/MORADOR.csv')\n",
    "outros_rend          = pd.read_csv('./dados/OUTROS_RENDIMENTOS.csv')\n",
    "rend_trabalho        = pd.read_csv('./dados/RENDIMENTO_TRABALHO.csv')\n",
    "restr_prod_ser_sau   = pd.read_csv('./dados/RESTRICAO_PRODUTOS_SERVICOS_SAUDE.csv')\n",
    "serv_nao_monet_pof2  = pd.read_csv('./dados/SERVICO_NAO_MONETARIO_POF2.csv')\n",
    "serv_nao_monet_pof4  = pd.read_csv('./dados/SERVICO_NAO_MONETARIO_POF4.csv')"
   ]
  },
  {
   "cell_type": "markdown",
   "metadata": {},
   "source": [
    "Criando coluna comum em todos os dataframes: **FAMILIA**"
   ]
  },
  {
   "cell_type": "code",
   "execution_count": 5,
   "metadata": {},
   "outputs": [],
   "source": [
    "aluguel_estimado['FAMILIA']    = aluguel_estimado.COD_UPA.astype(str) + aluguel_estimado.NUM_DOM.astype(str)\n",
    "cadern_coletiva['FAMILIA']     = cadern_coletiva.COD_UPA.astype(str) + cadern_coletiva.NUM_DOM.astype(str)\n",
    "caract_dieta['FAMILIA']        = caract_dieta.COD_UPA.astype(str) + caract_dieta.NUM_DOM.astype(str)\n",
    "condicoes_vida['FAMILIA']      = condicoes_vida.COD_UPA.astype(str) + condicoes_vida.NUM_DOM.astype(str)\n",
    "despesa_coletiva['FAMILIA']    = despesa_coletiva.COD_UPA.astype(str) + despesa_coletiva.NUM_DOM.astype(str)\n",
    "despesa_ind['FAMILIA']         = despesa_ind.COD_UPA.astype(str) + despesa_ind.NUM_DOM.astype(str)\n",
    "domicilio['FAMILIA']           = domicilio.COD_UPA.astype(str) + domicilio.NUM_DOM.astype(str)\n",
    "inventario['FAMILIA']          = inventario.COD_UPA.astype(str) + inventario.NUM_DOM.astype(str)\n",
    "morador['FAMILIA']             = morador.COD_UPA.astype(str) + morador.NUM_DOM.astype(str)\n",
    "outros_rend['FAMILIA']         = outros_rend.COD_UPA.astype(str) + outros_rend.NUM_DOM.astype(str)\n",
    "rend_trabalho['FAMILIA']       = rend_trabalho.COD_UPA.astype(str) + rend_trabalho.NUM_DOM.astype(str)\n",
    "restr_prod_ser_sau['FAMILIA']  = restr_prod_ser_sau.COD_UPA.astype(str) + restr_prod_ser_sau.NUM_DOM.astype(str)\n",
    "serv_nao_monet_pof2['FAMILIA'] = serv_nao_monet_pof2.COD_UPA.astype(str) + serv_nao_monet_pof2.NUM_DOM.astype(str)\n",
    "serv_nao_monet_pof4['FAMILIA'] = serv_nao_monet_pof4.COD_UPA.astype(str) + serv_nao_monet_pof4.NUM_DOM.astype(str)"
   ]
  },
  {
   "cell_type": "markdown",
   "metadata": {},
   "source": [
    "____"
   ]
  },
  {
   "cell_type": "markdown",
   "metadata": {},
   "source": [
    "Para cada dataframe, vamos remover as colunas que não serão usadas:"
   ]
  },
  {
   "cell_type": "markdown",
   "metadata": {},
   "source": [
    "#### Morador:"
   ]
  },
  {
   "cell_type": "code",
   "execution_count": 6,
   "metadata": {},
   "outputs": [],
   "source": [
    "morador.drop(columns = ['ESTRATO_POF','NUM_DOM','NUM_UC', 'V0306', 'V0401', 'V04021', 'V04022', 'V04023', 'V0409', 'V0410', 'V0411', 'V0412',  'V0415', 'V0416','V041711','V041712','V041721','V041722','V041731','V041732','V041741','V041742','V0418', 'V0420', 'V0421', 'V0422', 'V0423', 'V0424',  'V0426', 'V0427', 'V0428','V0429', 'V0430', 'PESO', 'PESO_FINAL', 'PC_RENDA_DISP', 'PC_RENDA_MONET ','PC_RENDA_NAO_MONET ', 'PC_DEDUCAO'], inplace = True)"
   ]
  },
  {
   "cell_type": "markdown",
   "metadata": {},
   "source": [
    "<br>\n",
    "\n",
    "#### Rendimento do trabalho: "
   ]
  },
  {
   "cell_type": "code",
   "execution_count": 7,
   "metadata": {},
   "outputs": [],
   "source": [
    "rend_trabalho.drop(columns = ['ESTRATO_POF','QUADRO', 'SEQ', 'V53021', 'V5303', 'V5305', 'V5307', 'V8500', 'V531112', 'V531122', 'V531132', 'V9010', 'V9011', 'V8500_DEFLA', 'V531112_DEFLA', 'V531122_DEFLA', 'V531132_DEFLA', 'COD_IMPUT_VALOR', 'FATOR_ANUALIZACAO', 'PESO', 'PESO_FINAL'], inplace = True)"
   ]
  },
  {
   "cell_type": "markdown",
   "metadata": {},
   "source": [
    "<br>\n",
    "\n",
    "#### Outros Rendimentos:"
   ]
  },
  {
   "cell_type": "code",
   "execution_count": 8,
   "metadata": {},
   "outputs": [],
   "source": [
    "outros_rend.drop(columns = ['ESTRATO_POF', 'QUADRO', 'SEQ', 'V8500', 'V8501', 'V9010', 'V9011', 'V8500_DEFLA', 'V8501_DEFLA', 'COD_IMPUT_VALOR', 'FATOR_ANUALIZACAO','PESO', 'PESO_FINAL'], inplace = True)"
   ]
  },
  {
   "cell_type": "markdown",
   "metadata": {},
   "source": [
    "<br>\n",
    "\n",
    "#### Despesa Coletiva:"
   ]
  },
  {
   "cell_type": "code",
   "execution_count": 16,
   "metadata": {},
   "outputs": [],
   "source": [
    "despesa_coletiva.drop(columns = ['ESTRATO_POF','NUM_UC', 'QUADRO', 'SEQ', 'V9005', 'V9010', 'V9012', 'V1904', 'V1905', 'V1904_DEFLA', 'COD_IMPUT_QUANTIDADE', 'FATOR_ANUALIZACAO', 'PESO', 'PESO_FINAL'], inplace = True)"
   ]
  },
  {
   "cell_type": "markdown",
   "metadata": {},
   "source": [
    "<br>\n",
    "\n",
    "#### Caderneta Coletiva:"
   ]
  },
  {
   "cell_type": "code",
   "execution_count": 19,
   "metadata": {},
   "outputs": [],
   "source": [
    "cadern_coletiva.drop(columns = ['ESTRATO_POF', 'TIPO_SITUACAO_REG', 'NUM_UC', 'QUADRO', 'SEQ', 'V9001', 'V9002', 'V8000_DEFLA', 'COD_IMPUT_VALOR', 'FATOR_ANUALIZACAO', 'PESO', 'PESO_FINAL'], inplace = True)"
   ]
  },
  {
   "cell_type": "markdown",
   "metadata": {},
   "source": [
    "<br>\n",
    "\n",
    "#### Despesa Individual:"
   ]
  },
  {
   "cell_type": "code",
   "execution_count": 22,
   "metadata": {},
   "outputs": [],
   "source": [
    "despesa_ind.drop(columns = ['ESTRATO_POF', 'TIPO_SITUACAO_REG', 'NUM_UC', 'QUADRO', 'SEQ', 'V9010', 'V9011', 'V9012', 'V4104', 'V4105', 'V8000_DEFLA', 'FATOR_ANUALIZACAO','PESO', 'PESO_FINAL'], inplace = True)"
   ]
  },
  {
   "cell_type": "markdown",
   "metadata": {},
   "source": [
    "<br>\n",
    "\n",
    "#### Aluguel Estimado:"
   ]
  },
  {
   "cell_type": "code",
   "execution_count": 25,
   "metadata": {},
   "outputs": [],
   "source": [
    "aluguel_estimado.drop(columns = ['ESTRATO_POF', 'NUM_UC', 'QUADRO', 'V9001', 'V9010', 'V8000_DEFLA', 'FATOR_ANUALIZACAO', 'PESO', 'PESO_FINAL'], inplace = True)"
   ]
  },
  {
   "cell_type": "markdown",
   "metadata": {},
   "source": [
    "____"
   ]
  },
  {
   "cell_type": "markdown",
   "metadata": {},
   "source": [
    "#### Unificando as bases:"
   ]
  },
  {
   "cell_type": "markdown",
   "metadata": {},
   "source": [
    "Após a remoção das colunas que não serão utilizadas, vamos criar um dataframe único:"
   ]
  },
  {
   "cell_type": "code",
   "execution_count": null,
   "metadata": {},
   "outputs": [],
   "source": [
    "#Listando todos os dataframes que serão inclusos no merge:\n",
    "\n",
    "dfs = [aluguel_estimado, cadern_coletiva, caract_dieta, condicoes_vida, despesa_coletiva, despesa_ind, domicilio, inventario, morador, outros_rend, rend_trabalho, restr_prod_ser_sau, serv_nao_monet_pof2, serv_nao_monet_pof4]\n",
    "\n",
    "nan_value = 0"
   ]
  },
  {
   "cell_type": "code",
   "execution_count": null,
   "metadata": {},
   "outputs": [],
   "source": [
    "from functools import reduce"
   ]
  },
  {
   "cell_type": "code",
   "execution_count": null,
   "metadata": {},
   "outputs": [],
   "source": [
    "df_final = reduce(lambda left,right: pd.merge(left,right,on='FAMILIA',  how='outer'), dfs)"
   ]
  },
  {
   "cell_type": "code",
   "execution_count": null,
   "metadata": {},
   "outputs": [],
   "source": [
    "df_final"
   ]
  }
 ],
 "metadata": {
  "kernelspec": {
   "display_name": "Python 3",
   "language": "python",
   "name": "python3"
  },
  "language_info": {
   "codemirror_mode": {
    "name": "ipython",
    "version": 3
   },
   "file_extension": ".py",
   "mimetype": "text/x-python",
   "name": "python",
   "nbconvert_exporter": "python",
   "pygments_lexer": "ipython3",
   "version": "3.8.5"
  }
 },
 "nbformat": 4,
 "nbformat_minor": 4
}
